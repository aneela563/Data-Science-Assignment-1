{
 "cells": [
  {
   "cell_type": "code",
   "execution_count": 1,
   "id": "2b255708",
   "metadata": {},
   "outputs": [
    {
     "name": "stdout",
     "output_type": "stream",
     "text": [
      "ASSIGNMENT#1 Q1\n"
     ]
    }
   ],
   "source": [
    "print(\"ASSIGNMENT#1 Q1\")"
   ]
  },
  {
   "cell_type": "code",
   "execution_count": 2,
   "id": "cd6f9853",
   "metadata": {},
   "outputs": [
    {
     "name": "stdout",
     "output_type": "stream",
     "text": [
      "Twinkle, twinkle, little star, \n",
      "\tHow I wonder what you are! \n",
      "\t\tUp above the world so high, \n",
      "\t\tLike a diamond in the sky. \n",
      "Twinkle, twinkle, little star, \n",
      "\tHow I wonder what you are!\n"
     ]
    }
   ],
   "source": [
    "print(\"Twinkle, twinkle, little star, \\n\\tHow I wonder what you are! \\n\\t\\tUp above the world so high, \\n\\t\\tLike a diamond in the sky. \\nTwinkle, twinkle, little star, \\n\\tHow I wonder what you are!\")"
   ]
  },
  {
   "cell_type": "code",
   "execution_count": 3,
   "id": "518da458",
   "metadata": {},
   "outputs": [
    {
     "name": "stdout",
     "output_type": "stream",
     "text": [
      "ASSIGNMENT#1 Q2\n"
     ]
    }
   ],
   "source": [
    "print(\"ASSIGNMENT#1 Q2\")"
   ]
  },
  {
   "cell_type": "code",
   "execution_count": 5,
   "id": "098110d6",
   "metadata": {},
   "outputs": [
    {
     "name": "stdout",
     "output_type": "stream",
     "text": [
      "3.9.7 (default, Sep 16 2021, 16:59:28) [MSC v.1916 64 bit (AMD64)]\n"
     ]
    }
   ],
   "source": [
    "import sys\n",
    "print(sys.version)"
   ]
  },
  {
   "cell_type": "code",
   "execution_count": 6,
   "id": "8bc74f28",
   "metadata": {},
   "outputs": [
    {
     "name": "stdout",
     "output_type": "stream",
     "text": [
      "ASSIGNMENT#1 Q3\n"
     ]
    }
   ],
   "source": [
    "print(\"ASSIGNMENT#1 Q3\")"
   ]
  },
  {
   "cell_type": "code",
   "execution_count": 7,
   "id": "95ff94c8",
   "metadata": {},
   "outputs": [
    {
     "name": "stdout",
     "output_type": "stream",
     "text": [
      "Current date and time is:2022-01-01  20:14:16\n"
     ]
    }
   ],
   "source": [
    "import datetime\n",
    "now = datetime.datetime.now()\n",
    "print(\"Current date and time is:\" + now.strftime(\"%Y-%m-%d  %H:%M:%S\"))"
   ]
  },
  {
   "cell_type": "code",
   "execution_count": 8,
   "id": "24d043ba",
   "metadata": {},
   "outputs": [
    {
     "name": "stdout",
     "output_type": "stream",
     "text": [
      "ASSIGNMENT#1 Q4\n"
     ]
    }
   ],
   "source": [
    "print(\"ASSIGNMENT#1 Q4\")"
   ]
  },
  {
   "cell_type": "code",
   "execution_count": 9,
   "id": "e80d9065",
   "metadata": {},
   "outputs": [
    {
     "name": "stdout",
     "output_type": "stream",
     "text": [
      "Input the radius of the circle: 4\n",
      "The area of the circle with radius 4.0 is: 50.26548245743669\n"
     ]
    }
   ],
   "source": [
    "import math\n",
    "radius = float(input(\"Input the radius of the circle: \"))\n",
    "area = math.pi * radius ** 2\n",
    "print(\"The area of the circle with radius \"+str(radius)+\" is: \"+str(area))\n"
   ]
  },
  {
   "cell_type": "code",
   "execution_count": 10,
   "id": "c33e92aa",
   "metadata": {},
   "outputs": [
    {
     "name": "stdout",
     "output_type": "stream",
     "text": [
      "ASSIGNMENT#1 Q5\n"
     ]
    }
   ],
   "source": [
    "print(\"ASSIGNMENT#1 Q5\")"
   ]
  },
  {
   "cell_type": "code",
   "execution_count": 11,
   "id": "1ca2beba",
   "metadata": {},
   "outputs": [
    {
     "name": "stdout",
     "output_type": "stream",
     "text": [
      "Enter your first name:Aneela\n",
      "Enter your last name:Naeem\n",
      "Naeem Aneela\n"
     ]
    }
   ],
   "source": [
    "x = input(\"Enter your first name:\")\n",
    "y = input(\"Enter your last name:\")\n",
    "print(y + \" \" + x)"
   ]
  },
  {
   "cell_type": "code",
   "execution_count": 12,
   "id": "7079ae0c",
   "metadata": {},
   "outputs": [
    {
     "name": "stdout",
     "output_type": "stream",
     "text": [
      "ASSIGNMENT#1 Q6\n"
     ]
    }
   ],
   "source": [
    "print(\"ASSIGNMENT#1 Q6\")"
   ]
  },
  {
   "cell_type": "code",
   "execution_count": 16,
   "id": "9f221cbd",
   "metadata": {},
   "outputs": [
    {
     "name": "stdout",
     "output_type": "stream",
     "text": [
      "Enter first number:29\n",
      "Enter second number:1\n",
      "By adding your entered numbers you will get = 291\n"
     ]
    }
   ],
   "source": [
    "x = input(\"Enter first number:\")\n",
    "y = input(\"Enter second number:\")\n",
    "sum = x + y\n",
    "print(\"By adding your entered numbers you will get =\" , sum)\n"
   ]
  },
  {
   "cell_type": "code",
   "execution_count": 17,
   "id": "623e4861",
   "metadata": {},
   "outputs": [
    {
     "name": "stdout",
     "output_type": "stream",
     "text": [
      "DONE MY ASSIGNMENT#1 \n"
     ]
    }
   ],
   "source": [
    "print(\"DONE MY ASSIGNMENT#1 \")"
   ]
  },
  {
   "cell_type": "code",
   "execution_count": null,
   "id": "45b2400d",
   "metadata": {},
   "outputs": [],
   "source": []
  }
 ],
 "metadata": {
  "kernelspec": {
   "display_name": "Python 3 (ipykernel)",
   "language": "python",
   "name": "python3"
  },
  "language_info": {
   "codemirror_mode": {
    "name": "ipython",
    "version": 3
   },
   "file_extension": ".py",
   "mimetype": "text/x-python",
   "name": "python",
   "nbconvert_exporter": "python",
   "pygments_lexer": "ipython3",
   "version": "3.9.7"
  }
 },
 "nbformat": 4,
 "nbformat_minor": 5
}
